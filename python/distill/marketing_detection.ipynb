{
 "cells": [
  {
   "cell_type": "code",
   "execution_count": 1,
   "metadata": {},
   "outputs": [
    {
     "name": "stdout",
     "output_type": "stream",
     "text": [
      "   15879 ../data/train.txt\n",
      "    6806 ../data/valid.txt\n",
      "   22685 total\n"
     ]
    }
   ],
   "source": [
    "!wc -l ../data/train.txt ../data/valid.txt"
   ]
  },
  {
   "cell_type": "code",
   "execution_count": 2,
   "metadata": {},
   "outputs": [
    {
     "name": "stdout",
     "output_type": "stream",
     "text": [
      "Build vocab... esplased: 2.47s\n",
      "vocab size is 7929\n",
      "Applied transform...\n",
      "Afte batch ...\n",
      "After seperate batch ...\n",
      "After apply padding ...\n",
      "Load train set...\n",
      "Applied transform...\n",
      "Afte batch ...\n",
      "After seperate batch ...\n",
      "After apply padding ...\n",
      "Load valid set...\n",
      "Train model...\n",
      "Epoch: 0\n",
      "| batch: [  200], loss: 0.639398\n",
      "| batch: [  400], loss: 0.730469\n",
      "| batch: [  600], loss: 0.686519\n",
      "| batch: [  800], loss: 0.722137\n",
      "\n",
      " Validation Accuracy: 57.4%, Validation loss: 0.682983 \n",
      "\n",
      "-----------------------------------------------------------\n",
      "| end of epoch   0 | time: 108.75s\n",
      "-----------------------------------------------------------\n"
     ]
    }
   ],
   "source": [
    "from marketing_detection_train import train_and_save\n",
    "train_and_save(train_data_path='../data/train.txt', valid_data_path='../data/valid.txt')"
   ]
  }
 ],
 "metadata": {
  "kernelspec": {
   "display_name": "pytorch2_dml",
   "language": "python",
   "name": "python3"
  },
  "language_info": {
   "codemirror_mode": {
    "name": "ipython",
    "version": 3
   },
   "file_extension": ".py",
   "mimetype": "text/x-python",
   "name": "python",
   "nbconvert_exporter": "python",
   "pygments_lexer": "ipython3",
   "version": "3.10.11"
  },
  "orig_nbformat": 4
 },
 "nbformat": 4,
 "nbformat_minor": 2
}
